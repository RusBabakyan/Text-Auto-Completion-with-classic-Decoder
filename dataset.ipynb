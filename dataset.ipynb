{
 "cells": [
  {
   "cell_type": "code",
   "execution_count": 3,
   "metadata": {},
   "outputs": [],
   "source": [
    "from datasets import load_dataset\n",
    "\n",
    "dataset = load_dataset(\"wikipedia\", \"20220301.simple\")"
   ]
  },
  {
   "cell_type": "code",
   "execution_count": 5,
   "metadata": {},
   "outputs": [],
   "source": [
    "from pprint import pprint"
   ]
  },
  {
   "cell_type": "code",
   "execution_count": 6,
   "metadata": {},
   "outputs": [
    {
     "name": "stdout",
     "output_type": "stream",
     "text": [
      "DatasetDict({\n",
      "    train: Dataset({\n",
      "        features: ['id', 'url', 'title', 'text'],\n",
      "        num_rows: 205328\n",
      "    })\n",
      "})\n"
     ]
    }
   ],
   "source": [
    "pprint((dataset))"
   ]
  },
  {
   "cell_type": "code",
   "execution_count": 2,
   "metadata": {},
   "outputs": [
    {
     "name": "stderr",
     "output_type": "stream",
     "text": [
      "[nltk_data] Downloading package punkt to /home/ruslan/nltk_data...\n",
      "[nltk_data]   Package punkt is already up-to-date!\n",
      "/home/ruslan/Desktop/My/Projects/.venv/lib/python3.10/site-packages/transformers/tokenization_utils_base.py:1601: FutureWarning: `clean_up_tokenization_spaces` was not set. It will be set to `True` by default. This behavior will be depracted in transformers v4.45, and will be then set to `False` by default. For more details check this issue: https://github.com/huggingface/transformers/issues/31884\n",
      "  warnings.warn(\n"
     ]
    }
   ],
   "source": [
    "\n",
    "dataset = WikipediaDataset()"
   ]
  },
  {
   "cell_type": "code",
   "execution_count": 5,
   "metadata": {},
   "outputs": [
    {
     "name": "stdout",
     "output_type": "stream",
     "text": [
      "(tensor([16784,   318,   262,  5544,  1227,   286,   262,   614,   287,   262,\n",
      "        18322,   290,  8547, 22618, 50215,    11,   290,  2058,  1022,  2805,\n",
      "          290,  1737,    13,   632,   318,   530,   286,  1440,  1933]),\n",
      " tensor([  318,   262,  5544,  1227,   286,   262,   614,   287,   262, 18322,\n",
      "          290,  8547, 22618, 50215,    11,   290,  2058,  1022,  2805,   290,\n",
      "         1737,    13,   632,   318,   530,   286,  1440,  1933,   284]),\n",
      " tensor([True, True, True, True, True, True, True, True, True, True, True, True,\n",
      "        True, True, True, True, True, True, True, True, True, True, True, True,\n",
      "        True, True, True, True, True]))\n"
     ]
    }
   ],
   "source": [
    "pprint((dataset[0]))"
   ]
  },
  {
   "cell_type": "code",
   "execution_count": 91,
   "metadata": {},
   "outputs": [],
   "source": [
    "import torch\n",
    "from decoder_models import TransformerDecoder\n",
    "import torch.nn as nn\n",
    "from tqdm import tqdm\n",
    "import numpy as np\n"
   ]
  },
  {
   "cell_type": "code",
   "execution_count": 10,
   "metadata": {},
   "outputs": [
    {
     "name": "stderr",
     "output_type": "stream",
     "text": [
      "[nltk_data] Downloading package punkt to /home/ruslan/nltk_data...\n",
      "[nltk_data]   Package punkt is already up-to-date!\n",
      "/home/ruslan/Desktop/My/Projects/.venv/lib/python3.10/site-packages/transformers/tokenization_utils_base.py:1601: FutureWarning: `clean_up_tokenization_spaces` was not set. It will be set to `True` by default. This behavior will be depracted in transformers v4.45, and will be then set to `False` by default. For more details check this issue: https://github.com/huggingface/transformers/issues/31884\n",
      "  warnings.warn(\n"
     ]
    }
   ],
   "source": [
    "\n",
    "import WIKI_dataset\n",
    "from torch.utils.data import DataLoader\n",
    "from importlib import reload\n",
    "reload(WIKI_dataset)\n",
    "from WIKI_dataset import WikipediaDataset, CustomDataset\n",
    "\n",
    "DEVICE = torch.device(\"cuda\" if torch.cuda.is_available() else \"cpu\")\n",
    "(train_data, test_data), tokenizer, VOCAB_SIZE = WikipediaDataset()\n",
    "D_MODEL = 512\n",
    "N_HEADS = 8\n",
    "N_BLOCKS = 3\n",
    "model = TransformerDecoder(VOCAB_SIZE, D_MODEL, N_HEADS, N_BLOCKS).to(DEVICE)\n",
    "train_dataset = CustomDataset(train_data, tokenizer)\n",
    "test_dataset = CustomDataset(test_data, tokenizer)\n",
    "train_loader = DataLoader(train_dataset, batch_size=64, shuffle = True)\n",
    "test_loader = DataLoader(test_dataset, batch_size=64, shuffle = False)"
   ]
  },
  {
   "cell_type": "code",
   "execution_count": 10,
   "metadata": {},
   "outputs": [
    {
     "name": "stdout",
     "output_type": "stream",
     "text": [
      "<WIKI_dataset.WikipediaDataset object at 0x7522fd705540>\n"
     ]
    }
   ],
   "source": [
    "print(smth)"
   ]
  },
  {
   "cell_type": "code",
   "execution_count": 11,
   "metadata": {},
   "outputs": [],
   "source": [
    "loss_fnc = nn.CrossEntropyLoss()\n",
    "optimizer = torch.optim.AdamW(model.parameters(), lr=1e-3)"
   ]
  },
  {
   "cell_type": "code",
   "execution_count": 12,
   "metadata": {},
   "outputs": [
    {
     "name": "stderr",
     "output_type": "stream",
     "text": [
      " 13%|█▎        | 341/2567 [01:21<08:53,  4.17it/s]\n",
      "  0%|          | 0/20 [01:21<?, ?it/s]\n"
     ]
    },
    {
     "ename": "KeyboardInterrupt",
     "evalue": "",
     "output_type": "error",
     "traceback": [
      "\u001b[0;31m---------------------------------------------------------------------------\u001b[0m",
      "\u001b[0;31mKeyboardInterrupt\u001b[0m                         Traceback (most recent call last)",
      "Cell \u001b[0;32mIn[12], line 19\u001b[0m\n\u001b[1;32m     17\u001b[0m     loss\u001b[38;5;241m.\u001b[39mbackward()\n\u001b[1;32m     18\u001b[0m     optimizer\u001b[38;5;241m.\u001b[39mstep()\n\u001b[0;32m---> 19\u001b[0m     loss_epoch\u001b[38;5;241m.\u001b[39mappend(\u001b[43mloss\u001b[49m\u001b[38;5;241;43m.\u001b[39;49m\u001b[43mitem\u001b[49m\u001b[43m(\u001b[49m\u001b[43m)\u001b[49m)\n\u001b[1;32m     21\u001b[0m \u001b[38;5;28mprint\u001b[39m(\u001b[38;5;124mf\u001b[39m\u001b[38;5;124m'\u001b[39m\u001b[38;5;124mLoss_epoch \u001b[39m\u001b[38;5;132;01m{\u001b[39;00mepoch\u001b[38;5;250m \u001b[39m\u001b[38;5;241m+\u001b[39m\u001b[38;5;250m \u001b[39m\u001b[38;5;241m1\u001b[39m\u001b[38;5;132;01m}\u001b[39;00m\u001b[38;5;124m: \u001b[39m\u001b[38;5;132;01m{\u001b[39;00mnp\u001b[38;5;241m.\u001b[39mmean(loss_epoch)\u001b[38;5;132;01m}\u001b[39;00m\u001b[38;5;124m'\u001b[39m)\n\u001b[1;32m     22\u001b[0m loss_epochs\u001b[38;5;241m.\u001b[39mappend(np\u001b[38;5;241m.\u001b[39mmean(loss_epoch))\n",
      "\u001b[0;31mKeyboardInterrupt\u001b[0m: "
     ]
    }
   ],
   "source": [
    "model.train()\n",
    "loss_epochs = []\n",
    "for epoch in tqdm(range(20)):\n",
    "    loss_epoch = []\n",
    "    for input_ids, labels_ids, data_attention_mask in tqdm(train_loader):\n",
    "        input_ids = input_ids.to(DEVICE)\n",
    "        labels_ids = labels_ids.to(DEVICE)\n",
    "        # pad_mask = pad_mask.to(DEVICE)\n",
    "        data_attention_mask = data_attention_mask.to(DEVICE)\n",
    "\n",
    "        preds = model(input_ids)\n",
    "        preds = preds[data_attention_mask]\n",
    "        labels_ids = labels_ids[data_attention_mask]\n",
    "\n",
    "        optimizer.zero_grad()\n",
    "        loss = loss_fnc(preds, labels_ids)\n",
    "        loss.backward()\n",
    "        optimizer.step()\n",
    "        loss_epoch.append(loss.item())\n",
    "\n",
    "    print(f'Loss_epoch {epoch + 1}: {np.mean(loss_epoch)}')\n",
    "    loss_epochs.append(np.mean(loss_epoch))"
   ]
  },
  {
   "cell_type": "code",
   "execution_count": 13,
   "metadata": {},
   "outputs": [],
   "source": [
    "torch.save(model.state_dict(), './model.pt')"
   ]
  },
  {
   "cell_type": "code",
   "execution_count": 145,
   "metadata": {},
   "outputs": [],
   "source": [
    "from pprint import pprint"
   ]
  },
  {
   "cell_type": "code",
   "execution_count": 147,
   "metadata": {},
   "outputs": [
    {
     "name": "stderr",
     "output_type": "stream",
     "text": [
      "/tmp/ipykernel_12539/1708013745.py:1: FutureWarning: You are using `torch.load` with `weights_only=False` (the current default value), which uses the default pickle module implicitly. It is possible to construct malicious pickle data which will execute arbitrary code during unpickling (See https://github.com/pytorch/pytorch/blob/main/SECURITY.md#untrusted-models for more details). In a future release, the default value for `weights_only` will be flipped to `True`. This limits the functions that could be executed during unpickling. Arbitrary objects will no longer be allowed to be loaded via this mode unless they are explicitly allowlisted by the user via `torch.serialization.add_safe_globals`. We recommend you start setting `weights_only=True` for any use case where you don't have full control of the loaded file. Please open an issue on GitHub for any issues related to this experimental feature.\n",
      "  model_dict = torch.load('model_long_data.pt')\n"
     ]
    }
   ],
   "source": [
    "model_dict = torch.load('model_long_data.pt')"
   ]
  },
  {
   "cell_type": "code",
   "execution_count": 149,
   "metadata": {},
   "outputs": [
    {
     "name": "stdout",
     "output_type": "stream",
     "text": [
      "odict_keys(['embedding.weight', 'pos.pe', 'blocks.0.layer_norm_1.weight', 'blocks.0.layer_norm_1.bias', 'blocks.0.layer_norm_2.weight', 'blocks.0.layer_norm_2.bias', 'blocks.0.MHA.query.weight', 'blocks.0.MHA.query.bias', 'blocks.0.MHA.key.weight', 'blocks.0.MHA.key.bias', 'blocks.0.MHA.value.weight', 'blocks.0.MHA.value.bias', 'blocks.0.MHA.out.weight', 'blocks.0.MHA.out.bias', 'blocks.0.MLP.0.weight', 'blocks.0.MLP.0.bias', 'blocks.0.MLP.2.weight', 'blocks.0.MLP.2.bias', 'blocks.1.layer_norm_1.weight', 'blocks.1.layer_norm_1.bias', 'blocks.1.layer_norm_2.weight', 'blocks.1.layer_norm_2.bias', 'blocks.1.MHA.query.weight', 'blocks.1.MHA.query.bias', 'blocks.1.MHA.key.weight', 'blocks.1.MHA.key.bias', 'blocks.1.MHA.value.weight', 'blocks.1.MHA.value.bias', 'blocks.1.MHA.out.weight', 'blocks.1.MHA.out.bias', 'blocks.1.MLP.0.weight', 'blocks.1.MLP.0.bias', 'blocks.1.MLP.2.weight', 'blocks.1.MLP.2.bias', 'blocks.2.layer_norm_1.weight', 'blocks.2.layer_norm_1.bias', 'blocks.2.layer_norm_2.weight', 'blocks.2.layer_norm_2.bias', 'blocks.2.MHA.query.weight', 'blocks.2.MHA.query.bias', 'blocks.2.MHA.key.weight', 'blocks.2.MHA.key.bias', 'blocks.2.MHA.value.weight', 'blocks.2.MHA.value.bias', 'blocks.2.MHA.out.weight', 'blocks.2.MHA.out.bias', 'blocks.2.MLP.0.weight', 'blocks.2.MLP.0.bias', 'blocks.2.MLP.2.weight', 'blocks.2.MLP.2.bias', 'final_layer.weight', 'final_layer.bias'])\n"
     ]
    }
   ],
   "source": [
    "pprint(model_dict.keys())"
   ]
  },
  {
   "cell_type": "code",
   "execution_count": 92,
   "metadata": {},
   "outputs": [
    {
     "ename": "NameError",
     "evalue": "name 'VOCAB_SIZE' is not defined",
     "output_type": "error",
     "traceback": [
      "\u001b[0;31m---------------------------------------------------------------------------\u001b[0m",
      "\u001b[0;31mNameError\u001b[0m                                 Traceback (most recent call last)",
      "Cell \u001b[0;32mIn[92], line 1\u001b[0m\n\u001b[0;32m----> 1\u001b[0m model \u001b[38;5;241m=\u001b[39m TransformerDecoder(\u001b[43mVOCAB_SIZE\u001b[49m, D_MODEL, N_HEADS, N_BLOCKS)\n\u001b[1;32m      2\u001b[0m model\u001b[38;5;241m.\u001b[39mload_state_dict(torch\u001b[38;5;241m.\u001b[39mload(\u001b[38;5;124m'\u001b[39m\u001b[38;5;124mmodel_alotofparameters.pt\u001b[39m\u001b[38;5;124m'\u001b[39m))  \u001b[38;5;66;03m# Загружаем состояние\u001b[39;00m\n\u001b[1;32m      3\u001b[0m model\u001b[38;5;241m.\u001b[39mto(DEVICE)\n",
      "\u001b[0;31mNameError\u001b[0m: name 'VOCAB_SIZE' is not defined"
     ]
    }
   ],
   "source": [
    "\n",
    "model = TransformerDecoder(VOCAB_SIZE, D_MODEL, N_HEADS, N_BLOCKS)\n",
    "model.load_state_dict(torch.load('model_alotofparameters.pt'))  # Загружаем состояние\n",
    "model.to(DEVICE)"
   ]
  },
  {
   "cell_type": "code",
   "execution_count": 106,
   "metadata": {},
   "outputs": [],
   "source": [
    "\n",
    "@torch.no_grad()\n",
    "def generate_batch(model, ids, is_decode = False, max_length = 20):\n",
    "\n",
    "    model.eval()\n",
    "\n",
    "    if not isinstance(ids, torch.Tensor):\n",
    "        ids =  torch.tensor(ids, device = DEVICE)\n",
    "        \n",
    "    if ids.shape:\n",
    "        # symbols = torch.tensor(ids, device = DEVICE).view(len(ids),1)\n",
    "        symbols = ids.clone().detach().to(DEVICE).view(1,len(ids))\n",
    "\n",
    "    else:\n",
    "        # symbols = torch.tensor(ids, device = DEVICE).view(1,1)\n",
    "        symbols = ids.clone().detach().to(DEVICE).view(1,1)\n",
    "\n",
    "    for _ in range(max_length - 1):\n",
    "        cur_symbols = model(symbols).argmax(-1)[:, -1][:, None]\n",
    "        symbols = torch.cat([symbols, cur_symbols], dim = 1)\n",
    "    if is_decode:\n",
    "        symbols = tokenizer.batch_decode(symbols, skip_special_tokens=True)\n",
    "    return symbols"
   ]
  },
  {
   "cell_type": "code",
   "execution_count": 39,
   "metadata": {},
   "outputs": [
    {
     "ename": "NameError",
     "evalue": "name 'train_dataset' is not defined",
     "output_type": "error",
     "traceback": [
      "\u001b[0;31m---------------------------------------------------------------------------\u001b[0m",
      "\u001b[0;31mNameError\u001b[0m                                 Traceback (most recent call last)",
      "Cell \u001b[0;32mIn[39], line 1\u001b[0m\n\u001b[0;32m----> 1\u001b[0m input_ids, labels_ids, data_attention_mask \u001b[38;5;241m=\u001b[39m \u001b[43mtrain_dataset\u001b[49m[\u001b[38;5;241m165\u001b[39m]\n\u001b[1;32m      2\u001b[0m text \u001b[38;5;241m=\u001b[39m tokenizer\u001b[38;5;241m.\u001b[39mdecode(input_ids, skip_special_tokens\u001b[38;5;241m=\u001b[39m\u001b[38;5;28;01mTrue\u001b[39;00m)\n\u001b[1;32m      3\u001b[0m start \u001b[38;5;241m=\u001b[39m \u001b[38;5;241m0\u001b[39m\n",
      "\u001b[0;31mNameError\u001b[0m: name 'train_dataset' is not defined"
     ]
    }
   ],
   "source": [
    "input_ids, labels_ids, data_attention_mask = train_dataset[165]\n",
    "text = tokenizer.decode(input_ids, skip_special_tokens=True)\n",
    "start = 0\n",
    "end = 5\n",
    "print(text)\n",
    "print(tokenizer.decode(input_ids[start:end], skip_special_tokens=False))\n",
    "generate_batch(model, ids = input_ids[start:end], is_decode=True, max_length= 30)"
   ]
  },
  {
   "cell_type": "code",
   "execution_count": 135,
   "metadata": {},
   "outputs": [],
   "source": [
    "def tokenize(data, max_length=30):\n",
    "    data_tokens = tokenizer(data, return_tensors = 'pt', max_length = max_length, truncation=True)\n",
    "\n",
    "    data_input_ids = data_tokens['input_ids'][0]\n",
    "\n",
    "    return data_input_ids"
   ]
  },
  {
   "cell_type": "code",
   "execution_count": 142,
   "metadata": {},
   "outputs": [
    {
     "name": "stdout",
     "output_type": "stream",
     "text": [
      "tensor([ 40, 716, 644])\n",
      "I am what\n"
     ]
    },
    {
     "data": {
      "text/plain": [
       "['I am what is a term in the way a group of people who live in the same area as a general term. It is a common term in the suffix']"
      ]
     },
     "execution_count": 142,
     "metadata": {},
     "output_type": "execute_result"
    }
   ],
   "source": [
    "text = \"I am what\"\n",
    "input_ids = tokenize(text)\n",
    "print(input_ids)\n",
    "print(text)\n",
    "generate_batch(model, ids = input_ids, is_decode=True, max_length= 30)"
   ]
  },
  {
   "cell_type": "code",
   "execution_count": 1,
   "metadata": {},
   "outputs": [],
   "source": [
    "from importlib import reload\n",
    "import prediction_model"
   ]
  },
  {
   "cell_type": "code",
   "execution_count": 83,
   "metadata": {},
   "outputs": [],
   "source": [
    "reload(prediction_model)\n",
    "from prediction_model import PredictionModel\n",
    "model = PredictionModel('model_long_data.pt', 3)"
   ]
  },
  {
   "cell_type": "code",
   "execution_count": 80,
   "metadata": {},
   "outputs": [
    {
     "data": {
      "text/plain": [
       "'panda is a dangerous'"
      ]
     },
     "execution_count": 80,
     "metadata": {},
     "output_type": "execute_result"
    }
   ],
   "source": [
    "\"panda is a dangerous     \".rstrip(' ')"
   ]
  },
  {
   "cell_type": "code",
   "execution_count": 86,
   "metadata": {},
   "outputs": [
    {
     "name": "stdout",
     "output_type": "stream",
     "text": [
      "panda is a dangerous\n",
      "panda is a dangerous chemical compound.\n",
      " chemical compound.\n"
     ]
    }
   ],
   "source": [
    "print(model(\"panda is a dangerous      \"))"
   ]
  },
  {
   "cell_type": "code",
   "execution_count": 60,
   "metadata": {},
   "outputs": [
    {
     "name": "stdout",
     "output_type": "stream",
     "text": [
      "Количество слов: 11\n"
     ]
    }
   ],
   "source": [
    "import re\n",
    "\n",
    "def count_words(text):\n",
    "    # Используем регулярное выражение для поиска слов\n",
    "    words = re.findall(r'\\b\\w+[\\'.,!?\"-]?\\w*\\b', text)\n",
    "    return len(words)\n",
    "\n",
    "# Пример использования\n",
    "text = \"Это пример текста.\\nЗдесь есть переносы строк, и знаки препинания!\"\n",
    "word_count = count_words(text)\n",
    "print(f\"Количество слов: {word_count}\")"
   ]
  }
 ],
 "metadata": {
  "kernelspec": {
   "display_name": ".venv",
   "language": "python",
   "name": "python3"
  },
  "language_info": {
   "codemirror_mode": {
    "name": "ipython",
    "version": 3
   },
   "file_extension": ".py",
   "mimetype": "text/x-python",
   "name": "python",
   "nbconvert_exporter": "python",
   "pygments_lexer": "ipython3",
   "version": "3.10.12"
  }
 },
 "nbformat": 4,
 "nbformat_minor": 2
}
